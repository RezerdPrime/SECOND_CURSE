{
 "cells": [
  {
   "cell_type": "code",
   "execution_count": 1,
   "metadata": {},
   "outputs": [
    {
     "data": {
      "text/plain": [
       "'ДЗ по матстату:\\n\\n1) построить линейную хрень\\n2) рассчитать средний коэффициент парной кореляцией ро_(x, y) и оверлайн А\\n3) оценить стат значимость параметрической регрессии и кореляции (по т стьюдента) \\n4) выполнить прогноз y при x = 107% от среднего уровня\\n5) оценить точность прогноза через ошибку прогноза и его доверительный интервал\\n\\nВыводы по всем пунктам'"
      ]
     },
     "execution_count": 1,
     "metadata": {},
     "output_type": "execute_result"
    }
   ],
   "source": [
    "'''ДЗ по матстату:\n",
    "\n",
    "1) построить линейную хрень\n",
    "2) рассчитать средний коэффициент парной кореляцией ро_(x, y) и оверлайн А\n",
    "3) оценить стат значимость параметрической регрессии и кореляции (по т стьюдента) \n",
    "4) выполнить прогноз y при x = 107% от среднего уровня\n",
    "5) оценить точность прогноза через ошибку прогноза и его доверительный интервал\n",
    "\n",
    "Выводы по всем пунктам'''"
   ]
  },
  {
   "cell_type": "code",
   "execution_count": 2,
   "metadata": {},
   "outputs": [
    {
     "name": "stdout",
     "output_type": "stream",
     "text": [
      "y = 112.88958333333332 + 1.4354166666666668*x\n",
      "r_xy = 0.8591049157226988\n",
      "A = 1.153101391049929\n"
     ]
    }
   ],
   "source": [
    "import numpy as np\n",
    "import matplotlib.pyplot as plt\n",
    "import pandas as pd\n",
    "\n",
    "# xs = [78,82,87,79,89,106,67,88,73,87,76,115]\n",
    "# ys = [133,148,134,154,162,195,139,158,152,162,159,173]\n",
    "xs = [35, 40, 30, 42, 37, 38, 34, 33, 36, 31, 36, 43, 39, 44]\n",
    "ys = [162, 174, 155, 172, 173, 166, 162, 160, 167, 153, 163, 173, 168, 176]\n",
    "n = len(xs)\n",
    "\n",
    "df = pd.DataFrame({'x': xs, 'y': ys})\n",
    "\n",
    "x_mean = df.x.mean()\n",
    "y_mean = df.y.mean()\n",
    "\n",
    "σx = df.x.std()\n",
    "σy = df.y.std()\n",
    "σ = [σx, σy]\n",
    "\n",
    "b = ((df.x * df.y).mean() - x_mean * y_mean) / σx**2\n",
    "a = y_mean - b*x_mean\n",
    "\n",
    "r_xy = b * min(σ) / max(σ)\n",
    "\n",
    "linreg = lambda t: a + b*t\n",
    "\n",
    "y_krishechka = linreg(df.x)\n",
    "dif_y = df.y - y_krishechka\n",
    "\n",
    "A = (abs(dif_y / df.y)).mean() * 100\n",
    "\n",
    "print(f'y = {a} + {b}*x')\n",
    "print(f'r_xy = {r_xy}')\n",
    "print(f'A = {A}')"
   ]
  },
  {
   "cell_type": "markdown",
   "metadata": {},
   "source": [
    "r<sub>xy</sub> показывает сильную положительную взаимосвязь\n",
    "\n",
    "A находится в пределах допустимой ошибки аппроксимации"
   ]
  },
  {
   "cell_type": "code",
   "execution_count": 3,
   "metadata": {},
   "outputs": [
    {
     "data": {
      "text/plain": [
       "[<matplotlib.lines.Line2D at 0x25a1d167290>]"
      ]
     },
     "execution_count": 3,
     "metadata": {},
     "output_type": "execute_result"
    },
    {
     "data": {
      "image/png": "[encoded data removed]",
      "text/plain": [
       "<Figure size 640x480 with 1 Axes>"
      ]
     },
     "metadata": {},
     "output_type": "display_data"
    }
   ],
   "source": [
    "_x = df.sort_values('x')['x']\n",
    "_y = df.sort_values('x')['y']\n",
    "\n",
    "plt.plot(_x,_y)\n",
    "\n",
    "lx = np.linspace(min(_x), max(_x), 100)\n",
    "ly = linreg(lx)\n",
    "\n",
    "plt.plot(lx,ly)"
   ]
  },
  {
   "cell_type": "code",
   "execution_count": 4,
   "metadata": {},
   "outputs": [
    {
     "name": "stdout",
     "output_type": "stream",
     "text": [
      "ma = 6.917492969593459\n",
      "mb = 0.18579958120243426\n",
      "mr = 0.1477437939421638\n",
      "\n",
      "ta = 16.319435932866273\n",
      "tb = 7.725618418389958\n",
      "tr = 5.814829122765091\n",
      "\n",
      "t_table = 2.23\n"
     ]
    }
   ],
   "source": [
    "mr = ( (1-r_xy**2) / (n-2) )**.5\n",
    "mb = ( sum(dif_y**2) / sum((df.x - x_mean)**2) / (n-2) )**.5\n",
    "ma = ( sum(dif_y**2) * sum(df.x**2) / sum((df.x - x_mean)**2) / n / (n-2) )**.5\n",
    "t_table = 2.23\n",
    "\n",
    "print(f'ma = {ma}\\nmb = {mb}\\nmr = {mr}\\n')\n",
    "print(f'ta = {a/ma}\\ntb = {b/mb}\\ntr = {r_xy/mr}\\n')\n",
    "print(f't_table = {2.23}')"
   ]
  },
  {
   "cell_type": "markdown",
   "metadata": {},
   "source": [
    "a, b и r<sub>xy</sub> не случайно отличаются от 0 и сформированы под влиянием х, гипотеза H<sub>0</sub> об их статистической незначимости отвергается"
   ]
  },
  {
   "cell_type": "code",
   "execution_count": 5,
   "metadata": {},
   "outputs": [
    {
     "data": {
      "text/plain": [
       "(163.04024233481877,\n",
       " 176.39521599851454,\n",
       " 39.59,\n",
       " 169.71772916666666,\n",
       " 6.677486831847884)"
      ]
     },
     "execution_count": 5,
     "metadata": {},
     "output_type": "execute_result"
    }
   ],
   "source": [
    "x_p = 1.07 * x_mean\n",
    "y_p = linreg(x_p)\n",
    "m = 1 # пока что так, вроде количество параметров, а вроде и нет\n",
    "\n",
    "mp = ( sum(dif_y**2) / (n-m-1) )**.5 * ( 1 + 1/n + (x_p - x_mean) / sum((df.x - x_mean)**2) )**.5\n",
    "\n",
    "Delta_yp = t_table * mp\n",
    "\n",
    "y_p-Delta_yp, y_p+Delta_yp, x_p, y_p, Delta_yp\n"
   ]
  }
 ],
 "metadata": {
  "kernelspec": {
   "display_name": "Python 3",
   "language": "python",
   "name": "python3"
  },
  "language_info": {
   "codemirror_mode": {
    "name": "ipython",
    "version": 3
   },
   "file_extension": ".py",
   "mimetype": "text/x-python",
   "name": "python",
   "nbconvert_exporter": "python",
   "pygments_lexer": "ipython3",
   "version": "3.11.1"
  }
 },
 "nbformat": 4,
 "nbformat_minor": 2
}
