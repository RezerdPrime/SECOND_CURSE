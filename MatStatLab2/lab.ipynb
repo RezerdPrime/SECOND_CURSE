{
 "cells": [
  {
   "cell_type": "markdown",
   "metadata": {},
   "source": [
    "# Блок 1"
   ]
  },
  {
   "cell_type": "code",
   "execution_count": 2,
   "metadata": {},
   "outputs": [],
   "source": [
    "import matplotlib.pyplot as plt\n",
    "import numpy as np"
   ]
  },
  {
   "cell_type": "code",
   "execution_count": 3,
   "metadata": {},
   "outputs": [
    {
     "name": "stdout",
     "output_type": "stream",
     "text": [
      "x: 7 6 5 4 3 2\n",
      "n: 1 2 4 4 5 6\n"
     ]
    },
    {
     "data": {
      "image/png": "[encoded data removed]",
      "text/plain": [
       "<Figure size 640x480 with 1 Axes>"
      ]
     },
     "metadata": {},
     "output_type": "display_data"
    }
   ],
   "source": [
    "#1\n",
    "\n",
    "raw = [3, 2, 5, 4, 6, 5, 3, 2, 4, 3, 4, 2, 3, 2, 5, 2, 3, 4, 2, 5, 7, 6]\n",
    "raw.sort()\n",
    "\n",
    "seth = list(set(raw))\n",
    "cooked = [(seth[i], raw.count(seth[i])) for i in range(len(seth))]\n",
    "\n",
    "xs = [cooked[i][0] for i in range(len(seth))]\n",
    "ns = [cooked[i][1] for i in range(len(seth))]\n",
    "\n",
    "print(\"x:\", *xs[::-1])\n",
    "print(\"n:\", *ns[::-1])\n",
    "\n",
    "poly = plt.Polygon(cooked + [(len(seth)+1, 0), (2,0)])\n",
    "\n",
    "fig, ax = plt.subplots()\n",
    "ax.add_patch(poly)\n",
    "ax.autoscale()\n",
    "plt.show()"
   ]
  },
  {
   "cell_type": "code",
   "execution_count": 4,
   "metadata": {},
   "outputs": [
    {
     "name": "stdout",
     "output_type": "stream",
     "text": [
      "[5.8, 6.5) 5\n",
      "[6.5, 7.2) 6\n",
      "[7.2, 8.0) 7\n",
      "[8.0, 8.7) 5\n",
      "[8.7, 9.4) 9\n",
      "[9.4, 10.2) 3\n"
     ]
    }
   ],
   "source": [
    "#2\n",
    "\n",
    "raw = [7.0, 6.0, 5.9, 9.4, 6.5, 7.3, 7.6, 9.3, 5.8, 7.2] +\\\n",
    "      [7.1, 8.3, 7.5, 6.8, 7.1, 9.2, 6.1, 8.5, 7.4, 7.8] +\\\n",
    "      [10.2, 9.4, 8.8, 8.3, 7.9, 9.2, 8.9, 9.0, 8.7, 8.5]\n",
    "\n",
    "n = len(raw)\n",
    "k = int(1 + 3.222*np.log10(n) + 1)\n",
    "r = round(max(raw) - min(raw), 1)\n",
    "h = round(r/k, 2)\n",
    "\n",
    "def IVR(raw_, n_, h_):\n",
    "    raw_.sort()\n",
    "\n",
    "    border = round(min(raw_) + h_, 1)\n",
    "    IVR = [(min(raw_), border)]\n",
    "\n",
    "    while round(border, 1) < max(raw_):\n",
    "        IVR += [(round(border, 1), round(border + h_, 1))]\n",
    "        border = (border + h_)\n",
    "\n",
    "    for i in range(len(IVR)):\n",
    "        count = 0\n",
    "        for j in range(n_):\n",
    "            if IVR[i][0] <= raw_[j] <= IVR[i][1]: count+=1\n",
    "        print(\"[\"+str(IVR[i])[1:], count)\n",
    "\n",
    "IVR(raw, n, h)\n",
    "\n",
    "# raw\n"
   ]
  },
  {
   "cell_type": "code",
   "execution_count": 5,
   "metadata": {},
   "outputs": [
    {
     "name": "stdout",
     "output_type": "stream",
     "text": [
      "[89.8, 117.8) 21\n",
      "[117.8, 145.8) 12\n",
      "[145.8, 173.9) 5\n",
      "[173.9, 202.0) 2\n",
      "\n",
      "Выполняют: 31\n",
      "Импотенты: 9\n"
     ]
    }
   ],
   "source": [
    "#3\n",
    "\n",
    "raw = [99.2, 101.2, 99.3, 105.0, 97.3, 103.2, 105.4, 108.2] +\\\n",
    "      [95.4,  96.8, 100.5, 90.3, 110.8, 111.5, 150.5, 140.3] +\\\n",
    "      [89.8, 103.6, 115.8, 125.4, 116.5, 130.4, 90.6, 130.4] +\\\n",
    "      [170.4, 109.2, 160.3, 122.4, 190.3, 202.0, 130.0, 119.6] +\\\n",
    "      [99.9, 119.4, 127.0, 130.0, 140.0, 129.0, 150.0, 168.0]\n",
    "\n",
    "n = len(raw)\n",
    "k = 4 #int(1 + 3.222*np.log10(n) + 1)\n",
    "r = max(raw) - min(raw)\n",
    "h = r/k\n",
    "\n",
    "IVR(raw, n, h)\n",
    "print()\n",
    "cooked = list(filter(lambda x: not(x<100), raw))\n",
    "\n",
    "print(\"Выполняют:\", len(cooked))\n",
    "print(\"Импотенты:\", len(raw) - len(cooked))\n"
   ]
  },
  {
   "cell_type": "code",
   "execution_count": 6,
   "metadata": {},
   "outputs": [
    {
     "name": "stdout",
     "output_type": "stream",
     "text": [
      "x:\t1\t2\t3\t4\t5\t6\n",
      "n:\t5\t6\t17\t15\t10\t6\n",
      "\n",
      "[1, 2.7) 11\n",
      "[2.7, 4.4) 32\n",
      "[4.4, 6.0) 16\n"
     ]
    }
   ],
   "source": [
    "#4\n",
    "\n",
    "raw = [5 ,4 ,2 ,1 ,6 ,3 ,3 ,4 ,3 ,2 ,2 ,5 ,6 ,4 , 3, 5, 4, 1, 2, 3, 3, 4, 1] +\\\n",
    "      [6, 5, 1, 3, 4, 3, 5, 4, 3, 3, 4, 4, 6, 4, 4, 3, 1, 5, 4, 3, 2, 6, 3, 4, 5, 5, 3, 3, 3, 3, 4, 5, 5, 6, 2, 4]\n",
    "\n",
    "seth = list(set(raw))\n",
    "cooked = [(seth[i], raw.count(seth[i])) for i in range(len(seth))]\n",
    "\n",
    "xs = [cooked[i][0] for i in range(len(seth))]\n",
    "ns = [cooked[i][1] for i in range(len(seth))]\n",
    "\n",
    "print(\"x:\", *xs, sep='\\t')\n",
    "print(\"n:\", *ns, sep='\\t')\n",
    "\n",
    "n = len(raw)\n",
    "k = 3\n",
    "r = max(raw) - min(raw)\n",
    "h = r/k\n",
    "\n",
    "print()\n",
    "IVR(raw, n, h)"
   ]
  },
  {
   "cell_type": "code",
   "execution_count": 7,
   "metadata": {},
   "outputs": [
    {
     "name": "stderr",
     "output_type": "stream",
     "text": [
      "C:\\Users\\Lenovo\\AppData\\Local\\Temp\\ipykernel_16096\\1887832194.py:18: FutureWarning: The default of observed=False is deprecated and will be changed to True in a future version of pandas. Pass observed=False to retain current behavior or observed=True to adopt the future default and silence this warning.\n",
      "  cut_group = cut_df.groupby('Диапазон')\n"
     ]
    },
    {
     "data": {
      "text/plain": [
       "Диапазон\n",
       "[3306.0, 3758.0)     1\n",
       "[2402.0, 2854.0)     4\n",
       "[3758.0, 4212.3)     4\n",
       "[1950.0, 2402.0)     7\n",
       "[2854.0, 3306.0)    11\n",
       "Name: Количество предприятий, dtype: int64"
      ]
     },
     "execution_count": 7,
     "metadata": {},
     "output_type": "execute_result"
    }
   ],
   "source": [
    "# 5\n",
    "\n",
    "import pandas as pd\n",
    "\n",
    "df = pd.read_csv('data.csv', index_col=0, delimiter=\"\\t\")\n",
    "k = 5\n",
    "n = len(df)\n",
    "r = (max(df['Среднегодовой объем выпускаемой продукции (тыс. руб.)']) -\n",
    "     min(df['Среднегодовой объем выпускаемой продукции (тыс. руб.)']))\n",
    "h = r / k\n",
    "\n",
    "line_ndf = pd.Series(df['Среднегодовой объем выпускаемой продукции (тыс. руб.)'].to_numpy().reshape(-1),\n",
    "                     index=df['Среднегодовой объем выпускаемой продукции (тыс. руб.)'].to_numpy().reshape(-1))\n",
    "line_ndf\n",
    "scut_df = pd.cut(line_ndf, bins=k, right=False, retbins=True, precision=1)[0].rename(\"Диапазон\")\n",
    "scut_df\n",
    "cut_df = df.merge(scut_df, left_on='Среднегодовой объем выпускаемой продукции (тыс. руб.)', right_index=True)\n",
    "cut_group = cut_df.groupby('Диапазон')\n",
    "\n",
    "count_series = cut_group['Диапазон'].count().rename(\"Количество предприятий\").sort_values()\n",
    "count_series "
   ]
  },
  {
   "cell_type": "code",
   "execution_count": 8,
   "metadata": {},
   "outputs": [
    {
     "data": {
      "text/plain": [
       "Диапазон\n",
       "[3306.0, 3758.0)     3403\n",
       "[2402.0, 2854.0)    10070\n",
       "[1950.0, 2402.0)    14900\n",
       "[3758.0, 4212.3)    16080\n",
       "[2854.0, 3306.0)    34180\n",
       "Name: Совокупный объём выпущенной продукции, dtype: int64"
      ]
     },
     "execution_count": 8,
     "metadata": {},
     "output_type": "execute_result"
    }
   ],
   "source": [
    "cut_group['Среднегодовой объем выпускаемой продукции (тыс. руб.)'].sum().rename(\"Совокупный объём выпущенной продукции\").sort_values()"
   ]
  },
  {
   "cell_type": "code",
   "execution_count": 9,
   "metadata": {},
   "outputs": [
    {
     "data": {
      "text/html": [
       "<div>\n",
       "<style scoped>\n",
       "    .dataframe tbody tr th:only-of-type {\n",
       "        vertical-align: middle;\n",
       "    }\n",
       "\n",
       "    .dataframe tbody tr th {\n",
       "        vertical-align: top;\n",
       "    }\n",
       "\n",
       "    .dataframe thead th {\n",
       "        text-align: right;\n",
       "    }\n",
       "</style>\n",
       "<table border=\"1\" class=\"dataframe\">\n",
       "  <thead>\n",
       "    <tr style=\"text-align: right;\">\n",
       "      <th></th>\n",
       "      <th>Среднегодовой объем выпускаемой продукции (тыс. руб.)</th>\n",
       "      <th>Среднее списочное число рабочих (чел.)</th>\n",
       "      <th>Количество посещений больниц в связи с травмами</th>\n",
       "      <th>Травматизм</th>\n",
       "      <th>Диапазон</th>\n",
       "    </tr>\n",
       "    <tr>\n",
       "      <th>Номер предприятия</th>\n",
       "      <th></th>\n",
       "      <th></th>\n",
       "      <th></th>\n",
       "      <th></th>\n",
       "      <th></th>\n",
       "    </tr>\n",
       "  </thead>\n",
       "  <tbody>\n",
       "    <tr>\n",
       "      <th>25</th>\n",
       "      <td>4210</td>\n",
       "      <td>4850</td>\n",
       "      <td>907</td>\n",
       "      <td>0.187010</td>\n",
       "      <td>[3758.0, 4212.3)</td>\n",
       "    </tr>\n",
       "    <tr>\n",
       "      <th>4</th>\n",
       "      <td>4100</td>\n",
       "      <td>4750</td>\n",
       "      <td>987</td>\n",
       "      <td>0.207789</td>\n",
       "      <td>[3758.0, 4212.3)</td>\n",
       "    </tr>\n",
       "    <tr>\n",
       "      <th>1</th>\n",
       "      <td>4010</td>\n",
       "      <td>4270</td>\n",
       "      <td>937</td>\n",
       "      <td>0.219438</td>\n",
       "      <td>[3758.0, 4212.3)</td>\n",
       "    </tr>\n",
       "    <tr>\n",
       "      <th>24</th>\n",
       "      <td>3760</td>\n",
       "      <td>4150</td>\n",
       "      <td>810</td>\n",
       "      <td>0.195181</td>\n",
       "      <td>[3758.0, 4212.3)</td>\n",
       "    </tr>\n",
       "    <tr>\n",
       "      <th>13</th>\n",
       "      <td>3403</td>\n",
       "      <td>3750</td>\n",
       "      <td>660</td>\n",
       "      <td>0.176000</td>\n",
       "      <td>[3306.0, 3758.0)</td>\n",
       "    </tr>\n",
       "    <tr>\n",
       "      <th>6</th>\n",
       "      <td>3266</td>\n",
       "      <td>3900</td>\n",
       "      <td>665</td>\n",
       "      <td>0.170513</td>\n",
       "      <td>[2854.0, 3306.0)</td>\n",
       "    </tr>\n",
       "    <tr>\n",
       "      <th>17</th>\n",
       "      <td>3236</td>\n",
       "      <td>3650</td>\n",
       "      <td>690</td>\n",
       "      <td>0.189041</td>\n",
       "      <td>[2854.0, 3306.0)</td>\n",
       "    </tr>\n",
       "    <tr>\n",
       "      <th>15</th>\n",
       "      <td>3146</td>\n",
       "      <td>3550</td>\n",
       "      <td>582</td>\n",
       "      <td>0.163944</td>\n",
       "      <td>[2854.0, 3306.0)</td>\n",
       "    </tr>\n",
       "    <tr>\n",
       "      <th>15</th>\n",
       "      <td>3146</td>\n",
       "      <td>3550</td>\n",
       "      <td>582</td>\n",
       "      <td>0.163944</td>\n",
       "      <td>[2854.0, 3306.0)</td>\n",
       "    </tr>\n",
       "    <tr>\n",
       "      <th>19</th>\n",
       "      <td>3146</td>\n",
       "      <td>3350</td>\n",
       "      <td>528</td>\n",
       "      <td>0.157612</td>\n",
       "      <td>[2854.0, 3306.0)</td>\n",
       "    </tr>\n",
       "    <tr>\n",
       "      <th>19</th>\n",
       "      <td>3146</td>\n",
       "      <td>3350</td>\n",
       "      <td>528</td>\n",
       "      <td>0.157612</td>\n",
       "      <td>[2854.0, 3306.0)</td>\n",
       "    </tr>\n",
       "    <tr>\n",
       "      <th>5</th>\n",
       "      <td>3116</td>\n",
       "      <td>3550</td>\n",
       "      <td>632</td>\n",
       "      <td>0.178028</td>\n",
       "      <td>[2854.0, 3306.0)</td>\n",
       "    </tr>\n",
       "    <tr>\n",
       "      <th>10</th>\n",
       "      <td>3110</td>\n",
       "      <td>3200</td>\n",
       "      <td>484</td>\n",
       "      <td>0.151250</td>\n",
       "      <td>[2854.0, 3306.0)</td>\n",
       "    </tr>\n",
       "    <tr>\n",
       "      <th>2</th>\n",
       "      <td>3016</td>\n",
       "      <td>4250</td>\n",
       "      <td>702</td>\n",
       "      <td>0.165176</td>\n",
       "      <td>[2854.0, 3306.0)</td>\n",
       "    </tr>\n",
       "    <tr>\n",
       "      <th>8</th>\n",
       "      <td>2986</td>\n",
       "      <td>3650</td>\n",
       "      <td>572</td>\n",
       "      <td>0.156712</td>\n",
       "      <td>[2854.0, 3306.0)</td>\n",
       "    </tr>\n",
       "    <tr>\n",
       "      <th>18</th>\n",
       "      <td>2866</td>\n",
       "      <td>2950</td>\n",
       "      <td>427</td>\n",
       "      <td>0.144746</td>\n",
       "      <td>[2854.0, 3306.0)</td>\n",
       "    </tr>\n",
       "    <tr>\n",
       "      <th>21</th>\n",
       "      <td>2610</td>\n",
       "      <td>3150</td>\n",
       "      <td>648</td>\n",
       "      <td>0.205714</td>\n",
       "      <td>[2402.0, 2854.0)</td>\n",
       "    </tr>\n",
       "    <tr>\n",
       "      <th>12</th>\n",
       "      <td>2540</td>\n",
       "      <td>3150</td>\n",
       "      <td>527</td>\n",
       "      <td>0.167302</td>\n",
       "      <td>[2402.0, 2854.0)</td>\n",
       "    </tr>\n",
       "    <tr>\n",
       "      <th>14</th>\n",
       "      <td>2500</td>\n",
       "      <td>3150</td>\n",
       "      <td>502</td>\n",
       "      <td>0.159365</td>\n",
       "      <td>[2402.0, 2854.0)</td>\n",
       "    </tr>\n",
       "    <tr>\n",
       "      <th>23</th>\n",
       "      <td>2420</td>\n",
       "      <td>2250</td>\n",
       "      <td>416</td>\n",
       "      <td>0.184889</td>\n",
       "      <td>[2402.0, 2854.0)</td>\n",
       "    </tr>\n",
       "    <tr>\n",
       "      <th>22</th>\n",
       "      <td>2270</td>\n",
       "      <td>2350</td>\n",
       "      <td>4072</td>\n",
       "      <td>1.732766</td>\n",
       "      <td>[1950.0, 2402.0)</td>\n",
       "    </tr>\n",
       "    <tr>\n",
       "      <th>20</th>\n",
       "      <td>2250</td>\n",
       "      <td>2750</td>\n",
       "      <td>380</td>\n",
       "      <td>0.138182</td>\n",
       "      <td>[1950.0, 2402.0)</td>\n",
       "    </tr>\n",
       "    <tr>\n",
       "      <th>9</th>\n",
       "      <td>2160</td>\n",
       "      <td>2750</td>\n",
       "      <td>368</td>\n",
       "      <td>0.133818</td>\n",
       "      <td>[1950.0, 2402.0)</td>\n",
       "    </tr>\n",
       "    <tr>\n",
       "      <th>16</th>\n",
       "      <td>2130</td>\n",
       "      <td>3150</td>\n",
       "      <td>580</td>\n",
       "      <td>0.184127</td>\n",
       "      <td>[1950.0, 2402.0)</td>\n",
       "    </tr>\n",
       "    <tr>\n",
       "      <th>7</th>\n",
       "      <td>2100</td>\n",
       "      <td>2850</td>\n",
       "      <td>338</td>\n",
       "      <td>0.118596</td>\n",
       "      <td>[1950.0, 2402.0)</td>\n",
       "    </tr>\n",
       "    <tr>\n",
       "      <th>11</th>\n",
       "      <td>2040</td>\n",
       "      <td>2150</td>\n",
       "      <td>305</td>\n",
       "      <td>0.141860</td>\n",
       "      <td>[1950.0, 2402.0)</td>\n",
       "    </tr>\n",
       "    <tr>\n",
       "      <th>3</th>\n",
       "      <td>1950</td>\n",
       "      <td>2850</td>\n",
       "      <td>389</td>\n",
       "      <td>0.136491</td>\n",
       "      <td>[1950.0, 2402.0)</td>\n",
       "    </tr>\n",
       "  </tbody>\n",
       "</table>\n",
       "</div>"
      ],
      "text/plain": [
       "                   Среднегодовой объем выпускаемой продукции (тыс. руб.)  \\\n",
       "Номер предприятия                                                          \n",
       "25                                                              4210       \n",
       "4                                                               4100       \n",
       "1                                                               4010       \n",
       "24                                                              3760       \n",
       "13                                                              3403       \n",
       "6                                                               3266       \n",
       "17                                                              3236       \n",
       "15                                                              3146       \n",
       "15                                                              3146       \n",
       "19                                                              3146       \n",
       "19                                                              3146       \n",
       "5                                                               3116       \n",
       "10                                                              3110       \n",
       "2                                                               3016       \n",
       "8                                                               2986       \n",
       "18                                                              2866       \n",
       "21                                                              2610       \n",
       "12                                                              2540       \n",
       "14                                                              2500       \n",
       "23                                                              2420       \n",
       "22                                                              2270       \n",
       "20                                                              2250       \n",
       "9                                                               2160       \n",
       "16                                                              2130       \n",
       "7                                                               2100       \n",
       "11                                                              2040       \n",
       "3                                                               1950       \n",
       "\n",
       "                   Среднее списочное число рабочих (чел.)  \\\n",
       "Номер предприятия                                           \n",
       "25                                                   4850   \n",
       "4                                                    4750   \n",
       "1                                                    4270   \n",
       "24                                                   4150   \n",
       "13                                                   3750   \n",
       "6                                                    3900   \n",
       "17                                                   3650   \n",
       "15                                                   3550   \n",
       "15                                                   3550   \n",
       "19                                                   3350   \n",
       "19                                                   3350   \n",
       "5                                                    3550   \n",
       "10                                                   3200   \n",
       "2                                                    4250   \n",
       "8                                                    3650   \n",
       "18                                                   2950   \n",
       "21                                                   3150   \n",
       "12                                                   3150   \n",
       "14                                                   3150   \n",
       "23                                                   2250   \n",
       "22                                                   2350   \n",
       "20                                                   2750   \n",
       "9                                                    2750   \n",
       "16                                                   3150   \n",
       "7                                                    2850   \n",
       "11                                                   2150   \n",
       "3                                                    2850   \n",
       "\n",
       "                   Количество посещений больниц в связи с травмами  \\\n",
       "Номер предприятия                                                    \n",
       "25                                                             907   \n",
       "4                                                              987   \n",
       "1                                                              937   \n",
       "24                                                             810   \n",
       "13                                                             660   \n",
       "6                                                              665   \n",
       "17                                                             690   \n",
       "15                                                             582   \n",
       "15                                                             582   \n",
       "19                                                             528   \n",
       "19                                                             528   \n",
       "5                                                              632   \n",
       "10                                                             484   \n",
       "2                                                              702   \n",
       "8                                                              572   \n",
       "18                                                             427   \n",
       "21                                                             648   \n",
       "12                                                             527   \n",
       "14                                                             502   \n",
       "23                                                             416   \n",
       "22                                                            4072   \n",
       "20                                                             380   \n",
       "9                                                              368   \n",
       "16                                                             580   \n",
       "7                                                              338   \n",
       "11                                                             305   \n",
       "3                                                              389   \n",
       "\n",
       "                   Травматизм          Диапазон  \n",
       "Номер предприятия                                \n",
       "25                   0.187010  [3758.0, 4212.3)  \n",
       "4                    0.207789  [3758.0, 4212.3)  \n",
       "1                    0.219438  [3758.0, 4212.3)  \n",
       "24                   0.195181  [3758.0, 4212.3)  \n",
       "13                   0.176000  [3306.0, 3758.0)  \n",
       "6                    0.170513  [2854.0, 3306.0)  \n",
       "17                   0.189041  [2854.0, 3306.0)  \n",
       "15                   0.163944  [2854.0, 3306.0)  \n",
       "15                   0.163944  [2854.0, 3306.0)  \n",
       "19                   0.157612  [2854.0, 3306.0)  \n",
       "19                   0.157612  [2854.0, 3306.0)  \n",
       "5                    0.178028  [2854.0, 3306.0)  \n",
       "10                   0.151250  [2854.0, 3306.0)  \n",
       "2                    0.165176  [2854.0, 3306.0)  \n",
       "8                    0.156712  [2854.0, 3306.0)  \n",
       "18                   0.144746  [2854.0, 3306.0)  \n",
       "21                   0.205714  [2402.0, 2854.0)  \n",
       "12                   0.167302  [2402.0, 2854.0)  \n",
       "14                   0.159365  [2402.0, 2854.0)  \n",
       "23                   0.184889  [2402.0, 2854.0)  \n",
       "22                   1.732766  [1950.0, 2402.0)  \n",
       "20                   0.138182  [1950.0, 2402.0)  \n",
       "9                    0.133818  [1950.0, 2402.0)  \n",
       "16                   0.184127  [1950.0, 2402.0)  \n",
       "7                    0.118596  [1950.0, 2402.0)  \n",
       "11                   0.141860  [1950.0, 2402.0)  \n",
       "3                    0.136491  [1950.0, 2402.0)  "
      ]
     },
     "execution_count": 9,
     "metadata": {},
     "output_type": "execute_result"
    }
   ],
   "source": [
    "travm_df = df[['Среднегодовой объем выпускаемой продукции (тыс. руб.)', 'Среднее списочное число рабочих (чел.)', 'Количество посещений больниц в связи с травмами']]\n",
    "travm_df = travm_df.assign(Травматизм = lambda row: (row['Количество посещений больниц в связи с травмами'] / row['Среднее списочное число рабочих (чел.)']))\n",
    "\n",
    "travm_df = travm_df.merge(scut_df, left_on='Среднегодовой объем выпускаемой продукции (тыс. руб.)', right_index=True)\n",
    "travm_df = travm_df.sort_values(by=[\"Среднегодовой объем выпускаемой продукции (тыс. руб.)\", 'Среднее списочное число рабочих (чел.)'], ascending=[False, False])\n",
    "\n",
    "travm_df"
   ]
  },
  {
   "cell_type": "code",
   "execution_count": 10,
   "metadata": {},
   "outputs": [
    {
     "data": {
      "text/plain": [
       "<Axes: xlabel='Среднегодовой объем выпускаемой продукции (тыс. руб.)'>"
      ]
     },
     "execution_count": 10,
     "metadata": {},
     "output_type": "execute_result"
    },
    {
     "data": {
      "image/png": "[encoded data removed]",
      "text/plain": [
       "<Figure size 640x480 with 1 Axes>"
      ]
     },
     "metadata": {},
     "output_type": "display_data"
    }
   ],
   "source": [
    "travm_df.plot(x='Среднегодовой объем выпускаемой продукции (тыс. руб.)', y='Травматизм', xticks=range(1950, 4200 + 1, 250))"
   ]
  },
  {
   "cell_type": "markdown",
   "metadata": {},
   "source": [
    "# Блок 2"
   ]
  },
  {
   "cell_type": "code",
   "execution_count": 11,
   "metadata": {},
   "outputs": [],
   "source": [
    "#1\n",
    "\n",
    "# макетик в эхель табличке\n"
   ]
  },
  {
   "cell_type": "code",
   "execution_count": 12,
   "metadata": {},
   "outputs": [],
   "source": [
    "#2\n",
    "\n",
    "# тоже самое собсна"
   ]
  },
  {
   "cell_type": "code",
   "execution_count": 13,
   "metadata": {},
   "outputs": [
    {
     "data": {
      "text/html": [
       "<div>\n",
       "<style scoped>\n",
       "    .dataframe tbody tr th:only-of-type {\n",
       "        vertical-align: middle;\n",
       "    }\n",
       "\n",
       "    .dataframe tbody tr th {\n",
       "        vertical-align: top;\n",
       "    }\n",
       "\n",
       "    .dataframe thead th {\n",
       "        text-align: right;\n",
       "    }\n",
       "</style>\n",
       "<table border=\"1\" class=\"dataframe\">\n",
       "  <thead>\n",
       "    <tr style=\"text-align: right;\">\n",
       "      <th></th>\n",
       "      <th>Млн. руб.</th>\n",
       "    </tr>\n",
       "    <tr>\n",
       "      <th>Годы</th>\n",
       "      <th></th>\n",
       "    </tr>\n",
       "  </thead>\n",
       "  <tbody>\n",
       "    <tr>\n",
       "      <th>1</th>\n",
       "      <td>15317</td>\n",
       "    </tr>\n",
       "    <tr>\n",
       "      <th>2</th>\n",
       "      <td>22620</td>\n",
       "    </tr>\n",
       "    <tr>\n",
       "      <th>3</th>\n",
       "      <td>37593</td>\n",
       "    </tr>\n",
       "    <tr>\n",
       "      <th>4</th>\n",
       "      <td>42245</td>\n",
       "    </tr>\n",
       "    <tr>\n",
       "      <th>5</th>\n",
       "      <td>50789</td>\n",
       "    </tr>\n",
       "  </tbody>\n",
       "</table>\n",
       "</div>"
      ],
      "text/plain": [
       "      Млн. руб.\n",
       "Годы           \n",
       "1         15317\n",
       "2         22620\n",
       "3         37593\n",
       "4         42245\n",
       "5         50789"
      ]
     },
     "execution_count": 13,
     "metadata": {},
     "output_type": "execute_result"
    }
   ],
   "source": [
    "#3\n",
    "\n",
    "df = pd.read_csv(\"data2.csv\", index_col=0)\n",
    "df"
   ]
  },
  {
   "cell_type": "code",
   "execution_count": 14,
   "metadata": {},
   "outputs": [
    {
     "data": {
      "text/plain": [
       "<Axes: xlabel='Годы'>"
      ]
     },
     "execution_count": 14,
     "metadata": {},
     "output_type": "execute_result"
    },
    {
     "data": {
      "image/png": "[encoded data removed]",
      "text/plain": [
       "<Figure size 640x480 with 1 Axes>"
      ]
     },
     "metadata": {},
     "output_type": "display_data"
    }
   ],
   "source": [
    "df.plot(kind='line')"
   ]
  },
  {
   "cell_type": "code",
   "execution_count": 15,
   "metadata": {},
   "outputs": [
    {
     "data": {
      "text/plain": [
       "<Axes: xlabel='Годы'>"
      ]
     },
     "execution_count": 15,
     "metadata": {},
     "output_type": "execute_result"
    },
    {
     "data": {
      "image/png": "[encoded data removed]",
      "text/plain": [
       "<Figure size 640x480 with 1 Axes>"
      ]
     },
     "metadata": {},
     "output_type": "display_data"
    }
   ],
   "source": [
    "df.plot(kind='bar')"
   ]
  },
  {
   "cell_type": "code",
   "execution_count": 16,
   "metadata": {},
   "outputs": [
    {
     "data": {
      "text/plain": [
       "<Axes: ylabel='Годы'>"
      ]
     },
     "execution_count": 16,
     "metadata": {},
     "output_type": "execute_result"
    },
    {
     "data": {
      "image/png": "[encoded data removed]",
      "text/plain": [
       "<Figure size 640x480 with 1 Axes>"
      ]
     },
     "metadata": {},
     "output_type": "display_data"
    }
   ],
   "source": [
    "df.plot(kind='barh')"
   ]
  },
  {
   "cell_type": "code",
   "execution_count": 17,
   "metadata": {},
   "outputs": [
    {
     "data": {
      "text/plain": [
       "array([<Axes: ylabel='Млн. руб.'>], dtype=object)"
      ]
     },
     "execution_count": 17,
     "metadata": {},
     "output_type": "execute_result"
    },
    {
     "data": {
      "image/png": "[encoded data removed]",
      "text/plain": [
       "<Figure size 640x480 with 1 Axes>"
      ]
     },
     "metadata": {},
     "output_type": "display_data"
    }
   ],
   "source": [
    "df.plot(kind='pie', subplots=True)"
   ]
  },
  {
   "cell_type": "code",
   "execution_count": 18,
   "metadata": {},
   "outputs": [
    {
     "data": {
      "image/png": "[encoded data removed]",
      "text/plain": [
       "<Figure size 640x480 with 1 Axes>"
      ]
     },
     "metadata": {},
     "output_type": "display_data"
    }
   ],
   "source": [
    "#4\n",
    "\n",
    "poly1 = plt.Polygon([(0,0), (0, 547.3), (15.4, 547.3), (15.4, 0)], facecolor = \"red\", alpha=0.5)\n",
    "poly2 = plt.Polygon([(0,0), (0, 730.8), (12.8, 730.8), (12.8, 0)], facecolor = \"blue\", alpha=0.5)\n",
    "poly3 = plt.Polygon([(0,0), (0, 429.5), (30.7, 429.5), (30.7, 0)], facecolor = \"green\", alpha=0.5)\n",
    "\n",
    "fig, ax = plt.subplots()\n",
    "ax.add_patch(poly1)\n",
    "ax.add_patch(poly2)\n",
    "ax.add_patch(poly3)\n",
    "ax.autoscale()\n",
    "plt.xlabel(\"Застрахованные\")\n",
    "plt.ylabel(\"Средние затраты на 1 чела\")\n",
    "plt.show()"
   ]
  },
  {
   "cell_type": "code",
   "execution_count": 19,
   "metadata": {},
   "outputs": [],
   "source": [
    "#5\n",
    "\n",
    "# опять ехелька"
   ]
  },
  {
   "cell_type": "markdown",
   "metadata": {},
   "source": [
    "# Блок 3"
   ]
  },
  {
   "cell_type": "code",
   "execution_count": 20,
   "metadata": {},
   "outputs": [
    {
     "data": {
      "text/plain": [
       "(72.2, 81.83333333333333, 77.45454545454545)"
      ]
     },
     "execution_count": 20,
     "metadata": {},
     "output_type": "execute_result"
    }
   ],
   "source": [
    "#1\n",
    "\n",
    "r1 = [70, 73, 68, 75, 75]\n",
    "r2 = [74 ,83, 81, 100, 73, 80]\n",
    "\n",
    "sum(r1) / len(r1), sum(r2) / len(r2), (sum(r1) + sum(r2)) / (len(r1) + len(r2))"
   ]
  },
  {
   "cell_type": "code",
   "execution_count": 21,
   "metadata": {},
   "outputs": [
    {
     "data": {
      "text/plain": [
       "'48.0568%'"
      ]
     },
     "execution_count": 21,
     "metadata": {},
     "output_type": "execute_result"
    }
   ],
   "source": [
    "#2\n",
    "\n",
    "a = (52.3 * 31.6 / 10000 + 66.4 * 25.8 / 10000 + 33.8 * 42.6 / 10000) * 100\n",
    "str(a)+\"%\"\n"
   ]
  },
  {
   "cell_type": "code",
   "execution_count": 22,
   "metadata": {},
   "outputs": [
    {
     "data": {
      "text/plain": [
       "'0.803076923076923%'"
      ]
     },
     "execution_count": 22,
     "metadata": {},
     "output_type": "execute_result"
    }
   ],
   "source": [
    "#3\n",
    "\n",
    "a = ((0.008 * 125.9) + (0.012 * 154.3) + (0.005 * 200.8)) / (125.9 + 154.3 + 200.8) * 100\n",
    "str(a)+\"%\""
   ]
  },
  {
   "cell_type": "code",
   "execution_count": 23,
   "metadata": {},
   "outputs": [
    {
     "data": {
      "text/plain": [
       "2539.0"
      ]
     },
     "execution_count": 23,
     "metadata": {},
     "output_type": "execute_result"
    }
   ],
   "source": [
    "#4\n",
    "\n",
    "lsd = [(1800+2000)/2, (2000+2200)/2, (2200+2400)/2, (2400+2600)/2, (2600+2800)/2, (2800+3000)/2, (3000+3200)/2]\n",
    "dolya = [7.3, 10.4, 12.2, 25.5, 22.4, 14.6, 7.6]\n",
    "\n",
    "S = 0\n",
    "for i in range(len(lsd)):\n",
    "    S += lsd[i] * dolya[i] / 100\n",
    "\n",
    "S"
   ]
  },
  {
   "cell_type": "code",
   "execution_count": 24,
   "metadata": {},
   "outputs": [
    {
     "data": {
      "text/plain": [
       "1244.0"
      ]
     },
     "execution_count": 24,
     "metadata": {},
     "output_type": "execute_result"
    }
   ],
   "source": [
    "#5\n",
    "\n",
    "((0.20 * 1100) + (0.30 * 1230) + (0.10 * 1150) + (0.40 * 1350)) / (220 / 1100 + 369 / 1230 + 115 / 1150 + 540 / 1350)"
   ]
  },
  {
   "cell_type": "markdown",
   "metadata": {},
   "source": [
    "# Блок 4"
   ]
  },
  {
   "cell_type": "code",
   "execution_count": 25,
   "metadata": {},
   "outputs": [],
   "source": [
    "#1\n",
    "\n",
    "Мода = \"хорошо\"\n",
    "\n",
    "Данные = '5'*7 + '4'*18 + '3'*6 + '2'*2\n",
    "\n",
    "Медиана = Данные[:len(Данные) // 2][len(Данные) // 2 - 1:]"
   ]
  },
  {
   "cell_type": "code",
   "execution_count": 26,
   "metadata": {},
   "outputs": [],
   "source": [
    "#2\n",
    "\n",
    "Мода = 6\n",
    "\n",
    "Медиана = 6"
   ]
  },
  {
   "cell_type": "code",
   "execution_count": 27,
   "metadata": {},
   "outputs": [
    {
     "name": "stdout",
     "output_type": "stream",
     "text": [
      "35-45 25-35 45-50\n",
      "25-35\n",
      "35-45\n",
      "50-55\n"
     ]
    }
   ],
   "source": [
    "#3\n",
    "\n",
    "df = pd.read_csv('data3.csv', index_col=0)\n",
    "\n",
    "mod_prom = df.loc[df['Промышленность'] == max(df['Промышленность'])].index[0]\n",
    "mod_act = df.loc[df['Сфера услуг'] == max(df['Сфера услуг'])].index[0]\n",
    "mod_med = df.loc[df['Медицина'] == max(df['Медицина'])].index[0]\n",
    "\n",
    "print(mod_prom, mod_act, mod_med)\n",
    "\n",
    "cdf = df.sort_values(by=['Промышленность'])\n",
    "cdf['Промышленность'] = cdf['Промышленность'].cumsum()\n",
    "\n",
    "mid_index = ((cdf.loc[mod_prom].loc['Промышленность'] + 1) / 2)\n",
    "\n",
    "cdf = cdf.sort_values(by=['Промышленность'], ascending=False)\n",
    "\n",
    "print(cdf.loc[(cdf['Промышленность'] >= mid_index)].sort_values(by=['Промышленность'], ascending=True).head(1).index[0])\n",
    "\n",
    "\n",
    "cdf = df.sort_values(by=['Сфера услуг'])\n",
    "cdf['Сфера услуг'] = cdf['Сфера услуг'].cumsum()\n",
    "\n",
    "mid_index = ((cdf.loc[mod_act].loc['Сфера услуг'] + 1) / 2)\n",
    "\n",
    "cdf = cdf.sort_values(by=['Сфера услуг'], ascending=False)\n",
    "\n",
    "print(cdf.loc[(cdf['Сфера услуг'] >= mid_index)].sort_values(by=['Сфера услуг'], ascending=True).head(1).index[0])\n",
    "\n",
    "cdf = df.sort_values(by=['Медицина'])\n",
    "cdf['Медицина'] = cdf['Медицина'].cumsum()\n",
    "\n",
    "mid_index = ((cdf.loc[mod_med].loc['Медицина'] + 1) / 2)\n",
    "\n",
    "cdf = cdf.sort_values(by=['Медицина'], ascending=False)\n",
    "\n",
    "print(cdf.loc[(cdf['Медицина'] >= mid_index)].sort_values(by=['Медицина'], ascending=True).head(1).index[0])"
   ]
  },
  {
   "cell_type": "code",
   "execution_count": 28,
   "metadata": {},
   "outputs": [
    {
     "name": "stdout",
     "output_type": "stream",
     "text": [
      "14-16\n",
      "50.5\n"
     ]
    },
    {
     "data": {
      "text/plain": [
       "'12-14'"
      ]
     },
     "execution_count": 28,
     "metadata": {},
     "output_type": "execute_result"
    }
   ],
   "source": [
    "#4\n",
    "\n",
    "df = pd.read_csv('data4.csv', index_col=0)\n",
    "\n",
    "mod = df.loc[df['Число транспорта'] == max(df['Число транспорта'])]\n",
    "mod_val = mod.index[0]\n",
    "\n",
    "print(mod_val)\n",
    "\n",
    "cdf = df.sort_values(by=['Число транспорта']).cumsum()\n",
    "mid_index = (cdf.loc[mod_val]['Число транспорта'] + 1) / 2\n",
    "\n",
    "print(mid_index)\n",
    "\n",
    "cdf = cdf.sort_values(by=['Число транспорта'], ascending=False)\n",
    "cdf.loc[(cdf['Число транспорта'] >= mid_index)].sort_values(by=['Число транспорта'], ascending=True).head(1).index[0]"
   ]
  },
  {
   "cell_type": "markdown",
   "metadata": {},
   "source": [
    "# Блок 5"
   ]
  },
  {
   "cell_type": "code",
   "execution_count": 29,
   "metadata": {},
   "outputs": [
    {
     "name": "stdout",
     "output_type": "stream",
     "text": [
      "4\n",
      "0.7058823529411765\n",
      "0.9701425001453319\n",
      "5.106013158659641\n"
     ]
    }
   ],
   "source": [
    "#1\n",
    "\n",
    "возраст = [17, 18, 19, 20, 21]\n",
    "студики = [10, 50, 70, 30, 10]\n",
    "r = max(возраст) - min(возраст)\n",
    "\n",
    "print(r)\n",
    "\n",
    "x_среднее = sum(возраст)/len(возраст)\n",
    "\n",
    "S = sum([abs(возраст[i] - x_среднее)*студики[i] for i in range(len(возраст))]) / 170\n",
    "\n",
    "print(S)\n",
    "\n",
    "S = sum([(возраст[i] - x_среднее)*(возраст[i] - x_среднее)*студики[i] for i in range(len(возраст))]) / 170\n",
    "\n",
    "print(s := np.sqrt(S))\n",
    "\n",
    "print(s / x_среднее * 100)"
   ]
  },
  {
   "cell_type": "code",
   "execution_count": 30,
   "metadata": {},
   "outputs": [
    {
     "name": "stdout",
     "output_type": "stream",
     "text": [
      "3950\n",
      "532.3333333333333\n",
      "599055.5555555555\n",
      "62.75568590934043\n"
     ]
    }
   ],
   "source": [
    "#2\n",
    "\n",
    "xs = [50, 200, 400, 750, 2000, 4000]\n",
    "ns = [50, 30, 10, 6, 3, 1, 100]\n",
    "\n",
    "print(max(xs) - min(xs))\n",
    "\n",
    "x_mid = sum(xs) / len(xs)\n",
    "\n",
    "print( sum([abs(xs[i] - x_mid) * ns[i] for i in range(len(xs))])/sum(ns) )\n",
    "print( s := sum([(xs[i] - x_mid)*(xs[i] - x_mid) * ns[i] for i in range(len(xs))])/sum(ns) )\n",
    "print(np.sqrt(s) / x_mid * 100)"
   ]
  },
  {
   "cell_type": "code",
   "execution_count": 31,
   "metadata": {},
   "outputs": [
    {
     "name": "stdout",
     "output_type": "stream",
     "text": [
      "29.716531516255394 16.98410667590002\n"
     ]
    }
   ],
   "source": [
    "#3\n",
    "\n",
    "df = pd.read_csv('data5.csv')\n",
    "\n",
    "en_df = df.loc[df['Тип оборудования'] == 'Энергетическое'].reset_index(drop=True)\n",
    "mid_int = [0.3, 0.65, 0.75, 0.9]\n",
    "en_df['Середина интервала'] = mid_int\n",
    "\n",
    "prom_df = df.loc[df['Тип оборудования'] == 'Производственное'].reset_index(drop=True)\n",
    "mid_int = [0.4, 0.825, 0.875, 0.95]\n",
    "prom_df['Середина интервала'] = mid_int\n",
    "\n",
    "def get_coef(adf):\n",
    "    cdf = adf.copy()\n",
    "    total_freq = sum(cdf['Число единиц оборудования'])\n",
    "    cdf['Варианта (s)'] = cdf['Число единиц оборудования'] * cdf['Середина интервала']\n",
    "\n",
    "    selective_mean = sum(cdf['Варианта (s)']) / total_freq\n",
    "    \n",
    "    cdf['Разность (d)'] = round(cdf['Середина интервала'] - selective_mean, 1)\n",
    "    cdf['Частота (f)'] = abs(cdf['Разность (d)']) * cdf['Число единиц оборудования']\n",
    "    cdf['Частота (2f)'] = (cdf['Разность (d)'] ** 2) * cdf['Число единиц оборудования']\n",
    "\n",
    "    disp = sum(cdf['Частота (2f)']) / total_freq\n",
    "    coef_var = np.sqrt(disp) / selective_mean * 100\n",
    "    return coef_var\n",
    "\n",
    "print(\n",
    "get_coef(prom_df), get_coef(en_df))\n",
    "\n"
   ]
  }
 ],
 "metadata": {
  "kernelspec": {
   "display_name": "Python 3",
   "language": "python",
   "name": "python3"
  },
  "language_info": {
   "codemirror_mode": {
    "name": "ipython",
    "version": 3
   },
   "file_extension": ".py",
   "mimetype": "text/x-python",
   "name": "python",
   "nbconvert_exporter": "python",
   "pygments_lexer": "ipython3",
   "version": "3.11.1"
  }
 },
 "nbformat": 4,
 "nbformat_minor": 2
}
