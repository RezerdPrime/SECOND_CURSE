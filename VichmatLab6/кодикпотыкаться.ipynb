{
 "cells": [
  {
   "cell_type": "code",
   "execution_count": 53,
   "metadata": {},
   "outputs": [
    {
     "name": "stdout",
     "output_type": "stream",
     "text": [
      "1 0.9595885741797803\n",
      "2 1.2221421074581298\n",
      "3 1.3359339753248611\n",
      "4 1.378625141767487\n",
      "5 1.3937192299042407\n",
      "6 1.3989411176058297\n",
      "7 1.4007339323901347\n",
      "8 1.4013478366163927\n",
      "9 1.401557863022297\n",
      "10 1.4016296942056725\n",
      "11 1.4016542586107394\n",
      "12 1.4016626586977485\n",
      "13 1.4016655311707253\n",
      "14 1.4016665134303286\n",
      "15 1.4016668493194882\n",
      "16 1.4016669641786061\n",
      "17 1.4016670034552974\n"
     ]
    },
    {
     "data": {
      "text/plain": [
       "1.4016670034552974"
      ]
     },
     "execution_count": 53,
     "metadata": {},
     "output_type": "execute_result"
    }
   ],
   "source": [
    "import numpy as np\n",
    "\n",
    "def f(x): return np.exp(-x) + x**3 - 3\n",
    "\n",
    "def df(x): return -np.exp(-x) + 3*x**2\n",
    "\n",
    "\n",
    "def chord_method(eps, lst: list):\n",
    "    counter = 1\n",
    "    b = lst[1]\n",
    "    xprev = lst[0]\n",
    "    xnext = xprev - (b-xprev)*f(xprev) / (f(b) - f(xprev))\n",
    "    print(counter, xnext)\n",
    "\n",
    "    while abs(xnext - xprev) > eps:\n",
    "        xprev = xnext\n",
    "        xnext = xprev - (b-xprev)*f(xprev) / (f(b) - f(xprev))\n",
    "        counter += 1\n",
    "        print(counter, xnext)\n",
    "\n",
    "    return xnext\n",
    "\n",
    "\n",
    "chord_method(0.0000001, [0.5, 2])"
   ]
  },
  {
   "cell_type": "code",
   "execution_count": 54,
   "metadata": {},
   "outputs": [
    {
     "name": "stdout",
     "output_type": "stream",
     "text": [
      "1.567174007371571\n",
      "1.4194441758304381\n",
      "1.4019046017324523\n",
      "1.4016670671084956\n",
      "1.4016670238655764\n"
     ]
    },
    {
     "data": {
      "text/plain": [
       "1.4016670238655764"
      ]
     },
     "execution_count": 54,
     "metadata": {},
     "output_type": "execute_result"
    }
   ],
   "source": [
    "def Newton_method(eps, x0):\n",
    "    counter = 1\n",
    "    xprev = x0\n",
    "    xnext = xprev - f(xprev) / df(xprev)\n",
    "    print(xnext)\n",
    "\n",
    "    while abs(xnext - xprev) > eps:\n",
    "        counter += 1\n",
    "        xprev = xnext\n",
    "        xnext = xprev - f(xprev) / df(xprev)\n",
    "        print(xnext)\n",
    "\n",
    "    return xnext\n",
    "\n",
    "Newton_method(0.0000001, 2)"
   ]
  },
  {
   "cell_type": "code",
   "execution_count": 55,
   "metadata": {},
   "outputs": [
    {
     "name": "stdout",
     "output_type": "stream",
     "text": [
      "1 1.25\n",
      "2 1.625\n",
      "3 1.4375\n",
      "4 1.34375\n",
      "5 1.390625\n",
      "6 1.4140625\n",
      "7 1.40234375\n",
      "8 1.396484375\n",
      "9 1.3994140625\n",
      "10 1.40087890625\n",
      "11 1.401611328125\n",
      "12 1.4019775390625\n",
      "13 1.40179443359375\n",
      "14 1.401702880859375\n",
      "15 1.4016571044921875\n",
      "16 1.4016799926757812\n",
      "17 1.4016685485839844\n",
      "18 1.401662826538086\n",
      "19 1.4016656875610352\n",
      "20 1.4016671180725098\n",
      "21 1.4016664028167725\n",
      "22 1.4016667604446411\n",
      "23 1.4016669392585754\n",
      "24 1.4016670286655426\n"
     ]
    },
    {
     "data": {
      "text/plain": [
       "1.4016670286655426"
      ]
     },
     "execution_count": 55,
     "metadata": {},
     "output_type": "execute_result"
    }
   ],
   "source": [
    "def bisection_method(eps, lst: list):\n",
    "    l = lst[0]\n",
    "    r = lst[1]\n",
    "    c = 0\n",
    "    counter = 1\n",
    "\n",
    "    xprev = r\n",
    "    xnext = c\n",
    "\n",
    "    while abs(xnext - xprev) > eps:\n",
    "       c = (r + l)/2\n",
    "\n",
    "       if f(c)*f(l) > 0: l = c\n",
    "       elif f(c)*f(r) > 0: r = c\n",
    "\n",
    "       xprev = xnext\n",
    "       xnext = c\n",
    "\n",
    "       print(counter, xnext)\n",
    "       counter += 1\n",
    "\n",
    "    return xnext\n",
    "\n",
    "bisection_method(0.0000001, [0.5, 2])"
   ]
  }
 ],
 "metadata": {
  "kernelspec": {
   "display_name": "Python 3",
   "language": "python",
   "name": "python3"
  },
  "language_info": {
   "codemirror_mode": {
    "name": "ipython",
    "version": 3
   },
   "file_extension": ".py",
   "mimetype": "text/x-python",
   "name": "python",
   "nbconvert_exporter": "python",
   "pygments_lexer": "ipython3",
   "version": "3.11.1"
  }
 },
 "nbformat": 4,
 "nbformat_minor": 2
}
