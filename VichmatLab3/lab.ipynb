{
 "cells": [
  {
   "cell_type": "code",
   "execution_count": 1,
   "metadata": {},
   "outputs": [],
   "source": [
    "import numpy as np\n",
    "\n",
    "def f(x):\n",
    "    return x*x + np.log10(x)\n",
    "\n",
    "def D2f(x):\n",
    "    return 2 - 1/x/x * 0.434294481903 # 1/ln(10)\n",
    "\n",
    "# вариант 19 -> \n",
    "k = 2 # порядок производной\n",
    "n = 3 + 1 # лагранж третьей степени\n",
    "m = 3 # третий узел\n",
    "\n",
    "brds = [0.4, 0.9]\n",
    "h = (brds[1] - brds[0]) / (n-1)\n",
    "\n",
    "xs = np.linspace(*brds, n)\n",
    "ys = [f(_) for _ in xs]"
   ]
  },
  {
   "cell_type": "code",
   "execution_count": 2,
   "metadata": {},
   "outputs": [
    {
     "data": {
      "text/plain": [
       "(0.7333333333333334,\n",
       " 1.1924276162960745,\n",
       " 1.1708236601425384,\n",
       " 0.021603956153536163)"
      ]
     },
     "execution_count": 2,
     "metadata": {},
     "output_type": "execute_result"
    }
   ],
   "source": [
    "def C(i_):\n",
    "\n",
    "    P = 1\n",
    "\n",
    "    for j_ in range(n):\n",
    "        if i_ != j_: P /= (i_-j_)*h\n",
    "\n",
    "    return P * ys[i_]\n",
    "\n",
    "\n",
    "def D2L(x):\n",
    "\n",
    "    main_S = 0\n",
    "    for i in range(n):\n",
    "\n",
    "        FIS = 0 # first inner summ\n",
    "        for j in range(n): \n",
    "\n",
    "            if j != i:\n",
    "\n",
    "                SIS = 0 # second inner summ\n",
    "                for k in range(n):\n",
    "\n",
    "                    if k not in [i, j]:\n",
    "                        \n",
    "                        P = 1 # inner product\n",
    "                        for l in range(n):\n",
    "\n",
    "                            if l not in [i, j, k]: \n",
    "                                P *= (x - xs[j])\n",
    "\n",
    "                        SIS += P\n",
    "\n",
    "                FIS += SIS \n",
    "\n",
    "        main_S += C(i) * FIS\n",
    "\n",
    "    return main_S\n",
    "\n",
    "\n",
    "R = D2f(xs[m-1])-D2L(xs[m-1])\n",
    "\n",
    "xs[m-1], D2f(xs[m-1]), D2L(xs[m-1]), R"
   ]
  },
  {
   "cell_type": "code",
   "execution_count": 3,
   "metadata": {},
   "outputs": [
    {
     "data": {
      "text/plain": [
       "(-0.00275805569466, 0.021603956153536163, -0.0314159781469)"
      ]
     },
     "execution_count": 3,
     "metadata": {},
     "output_type": "execute_result"
    }
   ],
   "source": [
    "R_max = -0.00275805569466\n",
    "R_min = -0.0314159781469\n",
    "\n",
    "R_max, R, R_min\n",
    "\n",
    "# https://www.desmos.com/calculator/enm4u3eous"
   ]
  }
 ],
 "metadata": {
  "kernelspec": {
   "display_name": "Python 3",
   "language": "python",
   "name": "python3"
  },
  "language_info": {
   "codemirror_mode": {
    "name": "ipython",
    "version": 3
   },
   "file_extension": ".py",
   "mimetype": "text/x-python",
   "name": "python",
   "nbconvert_exporter": "python",
   "pygments_lexer": "ipython3",
   "version": "3.11.1"
  }
 },
 "nbformat": 4,
 "nbformat_minor": 2
}
