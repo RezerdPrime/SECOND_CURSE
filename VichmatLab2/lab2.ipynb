{
 "cells": [
  {
   "cell_type": "code",
   "execution_count": 31,
   "metadata": {},
   "outputs": [
    {
     "name": "stdout",
     "output_type": "stream",
     "text": [
      "[-0.23794, -0.12098, -0.00422, 0.11416, 0.23541, 0.36044, 0.48993, 0.62439, 0.76424]\n",
      "\n",
      "[0.11696, 0.11677, 0.11838, 0.12125, 0.12503, 0.12949, 0.13446, 0.13985]\n",
      "\n",
      "[-0.00019, 0.00161, 0.00287, 0.00378, 0.00446, 0.00498, 0.00539]\n",
      "\n",
      "[0.00181, 0.00126, 0.00091, 0.00068, 0.00052, 0.00041]\n",
      "\n",
      "[-0.00055, -0.00035, -0.00023, -0.00016, -0.00011]\n",
      "\n",
      "[0.0002, 0.00012, 7e-05, 5e-05]\n",
      "\n",
      "[-9e-05, -5e-05, -3e-05]\n",
      "\n",
      "[4e-05, 2e-05]\n",
      "\n",
      "[-2e-05]\n",
      "\n"
     ]
    }
   ],
   "source": [
    "import numpy as np\n",
    "\n",
    "def f(x):\n",
    "    return x*x + np.log10(x)\n",
    "\n",
    "brds = [0.4, 0.9]\n",
    "n = 9; nbuf = n-1\n",
    "h = (brds[1] - brds[0]) / n\n",
    "\n",
    "xs = np.linspace(brds[0], brds[1], n)\n",
    "ys = [f(_) for _ in xs]\n",
    "\n",
    "table = [ys]\n",
    "nods = [0.43, 0.67, 0.86]\n",
    "\n",
    "for i in range(n-1):\n",
    "    table.append([table[i][j+1] - table[i][j] for j in range(nbuf)])\n",
    "    nbuf -= 1\n",
    "\n",
    "for i in range(len(table)):\n",
    "    print(list(map(lambda x: round(x, 5), table[i])))\n",
    "    print()"
   ]
  },
  {
   "cell_type": "code",
   "execution_count": 32,
   "metadata": {},
   "outputs": [],
   "source": [
    "def find_t(x_звездочка, x_нулевое):\n",
    "    return (x_звездочка - x_нулевое) / h\n",
    "\n",
    "def Newton_forward(t):\n",
    "\n",
    "    S = table[0][0]\n",
    "    t_buf = t\n",
    "\n",
    "    for i in range(1, n):\n",
    "        S += table[i][0] * t_buf\n",
    "        t_buf *= (t_buf-1) / (i+1)\n",
    "\n",
    "    return S\n",
    "\n",
    "def Newton_backward(t):\n",
    "\n",
    "    S = table[0][-1]\n",
    "    t_buf = t\n",
    "\n",
    "    for i in range(1, n):\n",
    "        S += table[i][-1] * t_buf\n",
    "        t_buf *= (t_buf+1) / (i+1)\n",
    "\n",
    "    return S\n",
    "\n",
    "def Gauss_1(t):\n",
    "    S = table[0][n//2]\n",
    "    t_buf = t\n",
    "\n",
    "    for i in range(1, n):\n",
    "        S += table[i][len(table[i])//2] * t_buf\n",
    "        \n",
    "        t_buf *= ( \n",
    "            t_buf + int((i+1)/2) * (\n",
    "                -1 if (i%2!=0) else 1\n",
    "            ) ) / (i+1)\n",
    "\n",
    "    return S\n"
   ]
  },
  {
   "cell_type": "code",
   "execution_count": 33,
   "metadata": {},
   "outputs": [
    {
     "name": "stdout",
     "output_type": "stream",
     "text": [
      "0.5399999999999995 -0.1816315444204135 -0.17466828605765913 \t 0.006963258362754354\n"
     ]
    }
   ],
   "source": [
    "t = find_t(nods[0], brds[0])\n",
    "print(t, f(nods[0]), Newton_forward(t), \"\\t\", R1 := Newton_forward(t)-f(nods[0]))"
   ]
  },
  {
   "cell_type": "code",
   "execution_count": 34,
   "metadata": {},
   "outputs": [
    {
     "name": "stdout",
     "output_type": "stream",
     "text": [
      "-0.7200000000000006 0.6740984512435676 0.6629948806154334 \t -0.011103570628134163\n"
     ]
    }
   ],
   "source": [
    "t = find_t(nods[-1], brds[1])\n",
    "print(t, f(nods[-1]), Newton_backward(t), \"\\t\", R3 := Newton_backward(t)-f(nods[-1]))"
   ]
  },
  {
   "cell_type": "code",
   "execution_count": 35,
   "metadata": {},
   "outputs": [
    {
     "name": "stdout",
     "output_type": "stream",
     "text": [
      "0.3600000000000003 0.2749748027008265 0.2799616264437464 \t 0.004986823742919866\n"
     ]
    }
   ],
   "source": [
    "t = find_t(nods[1],xs[len(xs)//2])\n",
    "print(t, f(nods[1]), Gauss_1(t), \"\\t\", R2 := Gauss_1(t)-f(nods[1]) )"
   ]
  },
  {
   "cell_type": "code",
   "execution_count": 36,
   "metadata": {},
   "outputs": [
    {
     "data": {
      "text/plain": [
       "(array([-1.50296003e+09, -1.32573146e+09, -1.17122128e+09, -1.03628944e+09,\n",
       "        -9.18260671e+08, -8.14851242e+08, -7.24107922e+08, -6.44357056e+08,\n",
       "        -5.74161936e+08, -5.12287071e+08, -4.57668164e+08, -4.09386834e+08,\n",
       "        -3.66649303e+08, -3.28768376e+08, -2.95148189e+08, -2.65271271e+08,\n",
       "        -2.38687548e+08, -2.15004984e+08, -1.93881601e+08, -1.75018666e+08,\n",
       "        -1.58154854e+08, -1.43061255e+08, -1.29537086e+08, -1.17405999e+08,\n",
       "        -1.06512916e+08, -9.67212849e+07, -8.79107224e+07, -7.99749688e+07,\n",
       "        -7.28201205e+07, -6.63630961e+07, -6.05303051e+07, -5.52564909e+07,\n",
       "        -5.04837229e+07, -4.61605184e+07, -4.22410766e+07, -3.86846086e+07,\n",
       "        -3.54547523e+07, -3.25190587e+07, -2.98485425e+07, -2.74172872e+07,\n",
       "        -2.52020978e+07, -2.31821958e+07, -2.13389501e+07, -1.96556399e+07,\n",
       "        -1.81172455e+07, -1.67102631e+07, -1.54225419e+07, -1.42431385e+07,\n",
       "        -1.31621893e+07, -1.21707963e+07, -1.12609261e+07, -1.04253202e+07,\n",
       "        -9.65741504e+06, -8.95127079e+06, -8.30150815e+06, -7.70325170e+06,\n",
       "        -7.15207946e+06, -6.64397778e+06, -6.17530103e+06, -5.74273553e+06,\n",
       "        -5.34326722e+06, -4.97415267e+06, -4.63289310e+06, -4.31721108e+06,\n",
       "        -4.02502949e+06, -3.75445275e+06, -3.50374978e+06, -3.27133877e+06,\n",
       "        -3.05577340e+06, -2.85573044e+06, -2.66999849e+06, -2.49746793e+06,\n",
       "        -2.33712174e+06, -2.18802723e+06, -2.04932857e+06, -1.92023999e+06,\n",
       "        -1.80003967e+06, -1.68806417e+06, -1.58370333e+06, -1.48639575e+06,\n",
       "        -1.39562459e+06, -1.31091378e+06, -1.23182460e+06, -1.15795251e+06,\n",
       "        -1.08892433e+06, -1.02439563e+06, -9.64048353e+05, -9.07588642e+05,\n",
       "        -8.54744895e+05, -8.05265943e+05, -7.58919409e+05, -7.15490199e+05,\n",
       "        -6.74779132e+05, -6.36601673e+05, -6.00786783e+05, -5.67175862e+05,\n",
       "        -5.35621780e+05, -5.05987987e+05, -4.78147700e+05, -4.51983155e+05]),\n",
       " -451983.1554477576,\n",
       " -1502960029.5352926)"
      ]
     },
     "execution_count": 36,
     "metadata": {},
     "output_type": "execute_result"
    }
   ],
   "source": [
    "def f_10th_derivative(x):\n",
    "    return -157596.781593 / (x**10)\n",
    "\n",
    "l = np.linspace(brds[0], brds[1], 100)\n",
    "f_l = f_10th_derivative(l)\n",
    "\n",
    "maxf = max(f_l)\n",
    "minf = min(f_l)\n",
    "\n",
    "f_l, maxf, minf"
   ]
  },
  {
   "cell_type": "code",
   "execution_count": 37,
   "metadata": {},
   "outputs": [],
   "source": [
    "def Rn(x_, stat = 'none'):\n",
    "\n",
    "    P = 0\n",
    "    \n",
    "    if stat == 'max': P = maxf\n",
    "    elif stat == 'min': P = minf\n",
    "    else: P = f_10th_derivative(x_)\n",
    "\n",
    "    for i in range(n): P *= (x_ - xs[i]) / (i+1)\n",
    "\n",
    "    return P"
   ]
  },
  {
   "cell_type": "code",
   "execution_count": 38,
   "metadata": {},
   "outputs": [
    {
     "name": "stdout",
     "output_type": "stream",
     "text": [
      "-0.0002481297718360579 0.006963258362754354 -7.461973374612624e-08\n",
      "-9.544190214609834e-06 0.004986823742919866 -2.870211532323167e-09\n",
      "0.00016381868163907053 -0.011103570628134163 4.926497258307828e-08\n"
     ]
    }
   ],
   "source": [
    "print( Rn(nods[0],\"min\"), R1, Rn(nods[0],\"max\") )\n",
    "print( Rn(nods[1],\"min\"), R2, Rn(nods[1],\"max\") )\n",
    "print( Rn(nods[2],\"min\"), R3, Rn(nods[2],\"max\") )"
   ]
  },
  {
   "cell_type": "code",
   "execution_count": 39,
   "metadata": {},
   "outputs": [
    {
     "name": "stdout",
     "output_type": "stream",
     "text": [
      "3.8337274425398524\n",
      "1.81355662189366\n",
      "1.6471734370032223\n"
     ]
    }
   ],
   "source": [
    "print(R1 / 0.1816315444204135 * 100)\n",
    "print(R2 / 0.2749748027008265 * 100)\n",
    "print(-R3 / 0.6740984512435676 * 100)"
   ]
  }
 ],
 "metadata": {
  "kernelspec": {
   "display_name": "Python 3",
   "language": "python",
   "name": "python3"
  },
  "language_info": {
   "codemirror_mode": {
    "name": "ipython",
    "version": 3
   },
   "file_extension": ".py",
   "mimetype": "text/x-python",
   "name": "python",
   "nbconvert_exporter": "python",
   "pygments_lexer": "ipython3",
   "version": "3.11.1"
  }
 },
 "nbformat": 4,
 "nbformat_minor": 2
}
